{
  "nbformat": 4,
  "nbformat_minor": 0,
  "metadata": {
    "colab": {
      "provenance": [],
      "collapsed_sections": []
    },
    "kernelspec": {
      "name": "python3",
      "display_name": "Python 3"
    },
    "language_info": {
      "name": "python"
    }
  },
  "cells": [
    {
      "cell_type": "markdown",
      "source": [
        "1) Write a Python program to create a dictionary that count the frequency of words in the string given in Q1.txt. Find the most frequent occured word."
      ],
      "metadata": {
        "id": "bBSbIZTtW7q4"
      }
    },
    {
      "cell_type": "code",
      "execution_count": 1,
      "metadata": {
        "id": "l6y53V9ZWzox",
        "colab": {
          "base_uri": "https://localhost:8080/",
          "height": 35
        },
        "outputId": "6b23d8cd-460b-43f6-c387-515c9cb261d4"
      },
      "outputs": [
        {
          "output_type": "execute_result",
          "data": {
            "text/plain": [
              "'IT'"
            ],
            "application/vnd.google.colaboratory.intrinsic+json": {
              "type": "string"
            }
          },
          "metadata": {},
          "execution_count": 1
        }
      ],
      "source": [
        "#step 1: read content from Q1.txt into list\n",
        "with open('Q1.txt', 'r') as file1:\n",
        "    wordlist = file1.read()\n",
        "\n",
        "newstr = wordlist.upper() \n",
        "#step 2.2 - remove pun : use replace\n",
        "punlist = '.!,' \n",
        "for pun in punlist:\n",
        "    newstr = newstr.replace(pun,'')\n",
        "\n",
        "#step 2.3 - split using space\n",
        "newstr2 = newstr.split(' ') \n",
        "\n",
        "#Step 3: create a dictionary \n",
        "dictls = {}\n",
        "keylist = set(newstr2)\n",
        "for key in keylist:\n",
        "  dictls[key] = newstr2.count(key) \n",
        "\n",
        "#Step 4: find the most frequent occured one\n",
        "max(dictls, key = dictls.get)"
      ]
    },
    {
      "cell_type": "markdown",
      "source": [
        "2) Write a Python program to read the name from Q2.txt and create email using domain 'parami.edu.mm' and save the results as dictionary : \n",
        "{'name': 'name@parami.edu.mm'}.\n",
        "Please take note that your email should not include space or any special characters and all charcters should be in lowercase."
      ],
      "metadata": {
        "id": "aQP7q021Xr9W"
      }
    },
    {
      "cell_type": "code",
      "source": [
        "#step 1: read Q2. txt into the list\n",
        "with open ('Q2.txt', 'r') as names:\n",
        "    header = names.readline()\n",
        "    namelist = names.readlines()\n",
        "#step 2: create email for each name in the list and keep in dictionary\n",
        "namedict = {}\n",
        "for name in namelist:\n",
        "  name1 = name[:-1].lower()\n",
        "  name2 = name1.replace(' ', '') \n",
        "  email = name2 + '@parami.edu.mm' \n",
        "  namedict[name2] = email\n",
        "\n",
        "namedict"
      ],
      "metadata": {
        "colab": {
          "base_uri": "https://localhost:8080/"
        },
        "id": "2B2TGvQCXuR3",
        "outputId": "6aa7d8f3-df97-422e-d6c3-47c5417b34c8"
      },
      "execution_count": 2,
      "outputs": [
        {
          "output_type": "execute_result",
          "data": {
            "text/plain": [
              "{'dechendorji': 'dechendorji@parami.edu.mm',\n",
              " 'dekitshomo': 'dekitshomo@parami.edu.mm',\n",
              " 'dorjitshering': 'dorjitshering@parami.edu.mm',\n",
              " 'dorjiwangmo': 'dorjiwangmo@parami.edu.mm',\n",
              " 'gemtsheringlepcha': 'gemtsheringlepcha@parami.edu.mm',\n",
              " 'jigmedorji': 'jigmedorji@parami.edu.mm',\n",
              " 'kinleycheki': 'kinleycheki@parami.edu.mm',\n",
              " 'kinleywangmo': 'kinleywangmo@parami.edu.mm',\n",
              " 'ngawangdemakarpo': 'ngawangdemakarpo@parami.edu.mm',\n",
              " 'roshanchhetri': 'roshanchhetri@parami.edu.mm',\n",
              " 'sonamtenzin': 'sonamtenzin@parami.edu.mm',\n",
              " 'sonamtobgay': 'sonamtobgay@parami.edu.mm',\n",
              " 'sonamyangden': 'sonamyangden@parami.edu.mm',\n",
              " 'tandinom': 'tandinom@parami.edu.mm',\n",
              " 'tandinwangchuk': 'tandinwangchuk@parami.edu.mm',\n",
              " 'tashiom': 'tashiom@parami.edu.mm',\n",
              " 'tendayzangmo': 'tendayzangmo@parami.edu.mm',\n",
              " 'tsheringpem': 'tsheringpem@parami.edu.mm',\n",
              " 'ugyenphurpa': 'ugyenphurpa@parami.edu.mm',\n",
              " 'marmit': 'marmit@parami.edu.mm'}"
            ]
          },
          "metadata": {},
          "execution_count": 2
        }
      ]
    },
    {
      "cell_type": "code",
      "source": [],
      "metadata": {
        "id": "gwlcIGjJYa1U"
      },
      "execution_count": null,
      "outputs": []
    }
  ]
}